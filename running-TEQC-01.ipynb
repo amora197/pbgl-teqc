{
 "cells": [
  {
   "cell_type": "markdown",
   "metadata": {},
   "source": [
    "# Assessing Capture Experiments <br>*with R-package TEQC - Target Enrichment Quality Control*"
   ]
  },
  {
   "cell_type": "markdown",
   "metadata": {},
   "source": [
    "### ABOUT"
   ]
  },
  {
   "cell_type": "markdown",
   "metadata": {},
   "source": [
    "TEQC is a BioConductor R library that can help in assessing whether a target/exome capture experiment has been successful. It can be used to answer whether most of the sequenced reads actually fall on the target, the targeted bases reach sufficient coverage, etc, and generate respective figures.\n",
    "\n",
    "TEQC provides multiple functionalities and quality measures of:\n",
    "\n",
    " - specificity and sensitivity of the capture, \n",
    " - enrichment,\n",
    " - per-target read coverage, \n",
    " - coverage uniformity and reproducibility, \n",
    " - and read duplicate analysis.\n",
    " \n",
    "The analyses can be based on either single reads or read pairs in case of paired-end sequence data. Results are given as values, tables, and diagnostic plots. Below an example analysis. Use this guide along with the [TEQC documentation](https://bioconductor.org/packages/release/bioc/html/TEQC.html).\n",
    "It seems that TEQC currently only handles one sample at a time, i.e., the bamfile is not parsed for specific samples.\n",
    "\n",
    "**Authors of the TEQC package:**\n",
    "\n",
    "Hummel M, Bonnin S, Lowy E, Roma G (2020). TEQC: Quality control for target capture experiments. R package version 4.12.0.\n",
    "\n",
    "Hummel M, Bonnin S, Lowy E, Roma G. TEQC: an R package for quality control in target capture experiments. Bioinformatics. 2011 May 1;27(9):1316-7. doi: 10.1093/bioinformatics/btr122. Epub 2011 Mar 12. PMID: 21398674.\n"
   ]
  },
  {
   "cell_type": "markdown",
   "metadata": {},
   "source": [
    "> _Authors of this Jupyter notebook: Anibal Morales, Norman Warthmann (FAO/IAEA Joint Center)_ <br>\n",
    "> _**We ran TEQC using R version 4.0.3 through Jupyter Notebook on Linux Ubuntu 16.04 Xenial**._"
   ]
  },
  {
   "cell_type": "markdown",
   "metadata": {},
   "source": [
    "### INSTALLING CONDA, R, AND JUPYTER NOTEBOOK\n",
    "\n",
    "We recommend installing all necessary packages and dependencies through conda/mamba into a dedicated conda virtual environment. For installing conda follow instruction on the [Miniconda Webpage](https://docs.conda.io/en/latest/miniconda.html). Miniconda3 might install python 2.7. In order to force Python3, explicitly install the preferred Python version and update conda subsequently to resolve dependencies.\n",
    "\n",
    "Code for Linux terminal is prefixed with \"**$**\" <br>\n",
    "Code for the R terminal is prefixed with \"**>**\"\n",
    "\n",
    "\n",
    "```\n",
    "$ conda create --name R-TEQC python=3.x\n",
    "$ conda activate R-TEQC\n",
    "$ mamba install samtools=1.11\n",
    "$ mamba install R\n",
    "$ mamba install jupyter\n",
    "$ mamba install r-irkernel\n",
    "\n",
    "```\n",
    "\n",
    "Start jupyter notebook\n",
    "\n",
    "```\n",
    "$ jupyter notebook\n",
    "```\n",
    "\n",
    "Note:\n",
    "\n",
    "Our script ran on **R version 4.0.3**. Run the analysis either through Jupyter Notebook or from the R command prompt (terminal). **Note: When installing through conda, then don't install Rstudio. Currently, installing Rstudio will downgrade R to version 3.6**, which we didn't test. To run R in Jupyter Notebook you need to install/add the R kernel, if you are having trouble with the install of r-irkernel through mamba, you may install it trhoug R as below:\n",
    "\n",
    "```\n",
    "$ R\n",
    "> install.packages('IRkernel')\n",
    "> IRkernel::installspec()\n",
    "> quit()\n",
    "```\n",
    "\n"
   ]
  },
  {
   "cell_type": "markdown",
   "metadata": {},
   "source": [
    "### LIBRARY INSTALLATION"
   ]
  },
  {
   "cell_type": "markdown",
   "metadata": {},
   "source": [
    "Suppress all warning messages."
   ]
  },
  {
   "cell_type": "code",
   "execution_count": 28,
   "metadata": {},
   "outputs": [],
   "source": [
    "#options(warn=-1)"
   ]
  },
  {
   "cell_type": "markdown",
   "metadata": {},
   "source": [
    "For installing from Bioconductor, check if BiocManager is installed. If not: install. (Define version if needed)"
   ]
  },
  {
   "cell_type": "code",
   "execution_count": 5,
   "metadata": {
    "scrolled": true
   },
   "outputs": [
    {
     "name": "stderr",
     "output_type": "stream",
     "text": [
      "'getOption(\"repos\")' replaces Bioconductor standard repositories, see\n",
      "'?repositories' for details\n",
      "\n",
      "replacement repositories:\n",
      "    CRAN: https://cran.r-project.org\n",
      "\n",
      "\n",
      "Bioconductor version 3.13 (BiocManager 1.30.16), R 4.1.0 (2021-05-18)\n",
      "\n",
      "Installing package(s) 'BiocVersion'\n",
      "\n",
      "Installing package(s) 'Biobase', 'BiocGenerics', 'BiocParallel', 'BiocVersion',\n",
      "  'Biostrings', 'bitops', 'fansi', 'formatR', 'GenomeInfoDb',\n",
      "  'GenomeInfoDbData', 'GenomicRanges', 'IRanges', 'RCurl', 'Rhtslib',\n",
      "  'Rsamtools', 'S4Vectors', 'survival', 'TEQC', 'XVector', 'zlibbioc'\n",
      "\n"
     ]
    }
   ],
   "source": [
    "if (!requireNamespace(\"BiocManager\", quietly = TRUE))\n",
    "    install.packages(\"BiocManager\")\n",
    "BiocManager::install(version = \"3.13\", ask=FALSE)"
   ]
  },
  {
   "cell_type": "markdown",
   "metadata": {},
   "source": [
    "Install TEQC with _**BiocManager**_ and load it."
   ]
  },
  {
   "cell_type": "code",
   "execution_count": 6,
   "metadata": {},
   "outputs": [
    {
     "name": "stderr",
     "output_type": "stream",
     "text": [
      "'getOption(\"repos\")' replaces Bioconductor standard repositories, see\n",
      "'?repositories' for details\n",
      "\n",
      "replacement repositories:\n",
      "    CRAN: https://cran.r-project.org\n",
      "\n",
      "\n",
      "Bioconductor version 3.13 (BiocManager 1.30.16), R 4.1.0 (2021-05-18)\n",
      "\n",
      "Warning message:\n",
      "“package(s) not installed when version(s) same as current; use `force = TRUE` to\n",
      "  re-install: 'Rsamtools'”\n",
      "'getOption(\"repos\")' replaces Bioconductor standard repositories, see\n",
      "'?repositories' for details\n",
      "\n",
      "replacement repositories:\n",
      "    CRAN: https://cran.r-project.org\n",
      "\n",
      "\n",
      "Bioconductor version 3.13 (BiocManager 1.30.16), R 4.1.0 (2021-05-18)\n",
      "\n",
      "Warning message:\n",
      "“package(s) not installed when version(s) same as current; use `force = TRUE` to\n",
      "  re-install: 'TEQC'”\n"
     ]
    }
   ],
   "source": [
    "BiocManager::install(\"Rsamtools\")\n",
    "BiocManager::install(c(\"TEQC\"))\n"
   ]
  },
  {
   "cell_type": "code",
   "execution_count": 7,
   "metadata": {},
   "outputs": [
    {
     "name": "stderr",
     "output_type": "stream",
     "text": [
      "Loading required package: BiocGenerics\n",
      "\n",
      "Loading required package: parallel\n",
      "\n",
      "\n",
      "Attaching package: ‘BiocGenerics’\n",
      "\n",
      "\n",
      "The following objects are masked from ‘package:parallel’:\n",
      "\n",
      "    clusterApply, clusterApplyLB, clusterCall, clusterEvalQ,\n",
      "    clusterExport, clusterMap, parApply, parCapply, parLapply,\n",
      "    parLapplyLB, parRapply, parSapply, parSapplyLB\n",
      "\n",
      "\n",
      "The following objects are masked from ‘package:stats’:\n",
      "\n",
      "    IQR, mad, sd, var, xtabs\n",
      "\n",
      "\n",
      "The following objects are masked from ‘package:base’:\n",
      "\n",
      "    anyDuplicated, append, as.data.frame, basename, cbind, colnames,\n",
      "    dirname, do.call, duplicated, eval, evalq, Filter, Find, get, grep,\n",
      "    grepl, intersect, is.unsorted, lapply, Map, mapply, match, mget,\n",
      "    order, paste, pmax, pmax.int, pmin, pmin.int, Position, rank,\n",
      "    rbind, Reduce, rownames, sapply, setdiff, sort, table, tapply,\n",
      "    union, unique, unsplit, which.max, which.min\n",
      "\n",
      "\n",
      "Loading required package: IRanges\n",
      "\n",
      "Loading required package: S4Vectors\n",
      "\n",
      "Loading required package: stats4\n",
      "\n",
      "\n",
      "Attaching package: ‘S4Vectors’\n",
      "\n",
      "\n",
      "The following objects are masked from ‘package:base’:\n",
      "\n",
      "    expand.grid, I, unname\n",
      "\n",
      "\n",
      "Loading required package: Rsamtools\n",
      "\n",
      "Loading required package: GenomeInfoDb\n",
      "\n",
      "Loading required package: GenomicRanges\n",
      "\n",
      "Loading required package: Biostrings\n",
      "\n",
      "Loading required package: XVector\n",
      "\n",
      "\n",
      "Attaching package: ‘Biostrings’\n",
      "\n",
      "\n",
      "The following object is masked from ‘package:base’:\n",
      "\n",
      "    strsplit\n",
      "\n",
      "\n",
      "Loading required package: hwriter\n",
      "\n"
     ]
    }
   ],
   "source": [
    "library(TEQC)"
   ]
  },
  {
   "cell_type": "markdown",
   "metadata": {},
   "source": [
    "# Load Mapped Reads (Bam file) and Capture Targets (bed file)"
   ]
  },
  {
   "cell_type": "markdown",
   "metadata": {},
   "source": [
    "The minimum input is 2 files:\n",
    "\n",
    "1. One **bed** file containing the genomic positions (chromosome, start, end) of the targeted regions, one genomic range per line, and  \n",
    "2. One **bam** (or **bed**) file containing the genomic positions(chromsome, start, end) of sequenced reads aligned to a reference genome, one genomic range per line."
   ]
  },
  {
   "cell_type": "markdown",
   "metadata": {},
   "source": [
    "**BED File Path - Targets**\n",
    "\n",
    "> _**Our orignal **bed** file threw errors. Suppplying only the first 3 columns of the file to the `get.targets()` function worked fine.**._"
   ]
  },
  {
   "cell_type": "code",
   "execution_count": 8,
   "metadata": {},
   "outputs": [],
   "source": [
    "#cut -f 1,2,3 /home/norman/data/coffee/Design_Coffee_exome_capture_291019/from_ArborBioSci/Arbor_CoffexomeV1-PredictedPotentialCovg-Exons.table.f1-f4f10f6.bed > /home/norman/data/coffee/Design_Coffee_exome_capture_291019/from_ArborBioSci/test.bed\n",
    "targetsfile <- file.path(\"/home/norman/data/coffee/Design_Coffee_exome_capture_291019/from_ArborBioSci/test.bed\")"
   ]
  },
  {
   "cell_type": "markdown",
   "metadata": {},
   "source": [
    "**BAM File Paths -Reads** "
   ]
  },
  {
   "cell_type": "code",
   "execution_count": 9,
   "metadata": {},
   "outputs": [],
   "source": [
    "## Input files for coffee76 (76 samples at PBGL)\n",
    "# setwd(\"/data/norman/coffee/Analysis_2020_coffee76/TEQC-Analysis\")\n",
    "# readsfile <- file.path(\"/home/norman/data/coffee/Analysis_2020_coffee76/dna-proto-workflow/output/abra/bwa~GCF_003713225.1_Cara_1.0~all_samples.bam\")\n",
    "\n",
    "## Input files for coffee-pilot (12 samples at Arbor)\n",
    "setwd('/home/norman/data/coffee/Analysis_2020_pilot/TEQC-Analysis')\n",
    "readsfile <- file.path(\"/home/norman/data/coffee/Analysis_2020_pilot/dna-proto-workflow/output/abra/bwa~GCF_003713225.1_Cara_1.0~all_samples.bam\")\n"
   ]
  },
  {
   "cell_type": "markdown",
   "metadata": {},
   "source": [
    "### Read data"
   ]
  },
  {
   "cell_type": "markdown",
   "metadata": {},
   "source": [
    "**`get.targets(targetsfile, chrcol, startcol, endcol, skip)`**:\n",
    "- output of class GRanges from the *GenomicRanges* package.\n",
    "- overlapping or adjacent targets are merged, such that the returned target regions are non-overlapping.\n",
    "- _**targetsfile**_: \n",
    "    - **bed** file \n",
    "    - does not need to have a fixed format, rather 3 columns containing (chromosome, start, end), see problems we had above\n",
    "- _**chrcol**_:\n",
    "    - chromosome column as string\n",
    "- _**startcol**_:\n",
    "    - start position of each target\n",
    "- _**endcol**_:\n",
    "    - end position of each target\n",
    "- _**skip**_:\n",
    "    - set to 0 (FALSE) to avoid shifting by 1, since TEQC uses 1-based coordinates\n",
    "\n",
    "**`get.reads(readsfile, filetype)`**:\n",
    "- similar to **`get.targets()`**, however overlapping or identical reads are not merged.\n",
    "- multiple matches per read on the genome are not supported.\n",
    "- whenever **bam** files are available, use the bam file (specify `filetype = \"bam\"`). Then `get.reads()` uses functionality of `scanBam`, and multiple matches are supposedly skipped.\n",
    "- reads can also be supplied as bed files. Consult the TEQC documentation for details.\n"
   ]
  },
  {
   "cell_type": "code",
   "execution_count": 10,
   "metadata": {},
   "outputs": [
    {
     "name": "stdout",
     "output_type": "stream",
     "text": [
      "[1] \"read 509082 target regions in total, which are collapsed to 275612 non-overlapping target regions\"\n",
      "[1] \"read 248592199 sequenced reads\"\n"
     ]
    }
   ],
   "source": [
    "targets <- get.targets(targetsfile, chrcol = 1, startcol = 2, endcol = 3, skip = 0)\n",
    "reads <- get.reads(readsfile, filetype = \"bam\")"
   ]
  },
  {
   "cell_type": "markdown",
   "metadata": {},
   "source": [
    "### Fraction Calculation - how much of the reference genome is covered by the targets?"
   ]
  },
  {
   "cell_type": "markdown",
   "metadata": {},
   "source": [
    "**`fraction.target(targets, Offset, genome = c(NA, \"hg38\", \"hg19\", \"hg18\"), genomesize)`**:\n",
    "- calculate the fraction of the reference genome that is covered by targets (We calculated the genome size of coffee by summing up the chromosome lengths of the 22 real chromosomes: 82,4528,171 bp).\n",
    "- returns the fraction of nucleotides within the genome that were targeted.\n",
    "- can later be used with the **`fraction.reads.target()`** output to calculate the **enrichment** of the target capture experiment (see further below): `enrichment = fraction of on-target reads / fraction of target within genome`\n",
    "- ***targets***:\n",
    "    - `RangedData` table containing positions of target regions, i.e., output from **`get.targets()`**\n",
    "- ***Offset***:\n",
    "    - integer; adds `Offset` bases to both sides of targeted regions and potentially collapses resulting overlapping target regions\n",
    "- ***genome***:\n",
    "    - the genome (name) where targets were designed against and reads aligned to. For genomes unknown to the software (ie, non-human) put `NA` and specify `genomesize`.\n",
    "- ***genomesize***:\n",
    "    - integer: specify the total genome size manually. \n",
    "    - if `genomesize` is given, option `genome` will be ignored."
   ]
  },
  {
   "cell_type": "code",
   "execution_count": 11,
   "metadata": {},
   "outputs": [
    {
     "data": {
      "text/html": [
       "0.114633771560972"
      ],
      "text/latex": [
       "0.114633771560972"
      ],
      "text/markdown": [
       "0.114633771560972"
      ],
      "text/plain": [
       "[1] 0.1146338"
      ]
     },
     "metadata": {},
     "output_type": "display_data"
    }
   ],
   "source": [
    "ft<-fraction.target(targets, Offset = 0, genome = NA, 824528171)\n",
    "ft"
   ]
  },
  {
   "cell_type": "markdown",
   "metadata": {},
   "source": [
    "###  Merge reads to read pairs <br><br> <span style=\"color:red\">(currently not working for our bam files produced by bwa mem)</span>"
   ]
  },
  {
   "cell_type": "markdown",
   "metadata": {},
   "source": [
    "**`reads2pairs(reads, max.distance)`**:\n",
    "- combines the two reads of a read pair (in case of paired-end data) to a new 'range' starting at the first read's start position and ending at the second read's end position.\n",
    "- ***reads***:\n",
    "    - table containing positions of sequenced reads, i.e. output of **`get.reads()`**\n",
    "- ***max.distance***:\n",
    "    - integer value defining the maximum allowed distance between two reads of a pair (from start position of first read to end position of second read).\n",
    "- currently outputs an error, which may be due to **`scanBam`** and the **`isSecondaryAlignment=False`** option when **`get.reads()`** is used:    \n",
    "\n",
    "```\n",
    "Error in reads2pairs(reads): read pair IDs do not seem to be unique\n",
    "Traceback:\n",
    "1. reads2pairs(reads)\n",
    "2. stop(\"read pair IDs do not seem to be unique\")\n",
    "```\n",
    "\n"
   ]
  },
  {
   "cell_type": "code",
   "execution_count": 12,
   "metadata": {},
   "outputs": [
    {
     "ename": "ERROR",
     "evalue": "Error in reads2pairs(reads): read pair IDs do not seem to be unique\n",
     "output_type": "error",
     "traceback": [
      "Error in reads2pairs(reads): read pair IDs do not seem to be unique\nTraceback:\n",
      "1. reads2pairs(reads)",
      "2. stop(\"read pair IDs do not seem to be unique\")"
     ]
    }
   ],
   "source": [
    "readpairs <- reads2pairs(reads)"
   ]
  },
  {
   "cell_type": "markdown",
   "metadata": {},
   "source": [
    "# SPECIFICITY AND ENRICHMENT"
   ]
  },
  {
   "cell_type": "markdown",
   "metadata": {},
   "source": [
    "### TARGET CAPTURE SPECIFICITY"
   ]
  },
  {
   "cell_type": "markdown",
   "metadata": {},
   "source": [
    "**`fraction.reads.target(reads, targets, Offset, mappingReads)`**:\n",
    "- calculating fraction of reads that align/overlap the target regions (offset is added to either sides of target intervals)\n",
    "- can be used with the **`fraction.target()`** output to calculate the **enrichment** of the target capture experiment:\n",
    "    - `enrichment = fraction of on-target reads / fraction of target within genome`\n",
    "- ***reads***:\n",
    "    - table containing positions of sequenced reads, i.e. output of **`get.reads()`**\n",
    "- ***targets***:\n",
    "    - table containing positions of target regions, i.e. output of **`get.targets()`**\n",
    "- ***Offset***:\n",
    "    - integer; add an offset on both sides to targeted regions and potentially collape resulting overlapping target regions\n",
    "- ***mappingReads***:\n",
    "    - set to `TRUE` or `FALSE`\n",
    "    - if `TRUE`, reduced `RangedData` table with only those reads mapping to target regions is returned.\n",
    "    - if `FALSE` (default), just the fraction of `reads / read pairs mapping to targets` is returned"
   ]
  },
  {
   "cell_type": "code",
   "execution_count": 13,
   "metadata": {
    "scrolled": false
   },
   "outputs": [
    {
     "name": "stderr",
     "output_type": "stream",
     "text": [
      "Warning message in .Seqinfo.mergexy(x, y):\n",
      "“Each of the 2 combined objects has sequence levels not in the other:\n",
      "  - in 'x': NW_020848442.1, NW_020848443.1, NW_020848444.1, NW_020848445.1, NW_020848447.1, NW_020848448.1, NW_020848450.1, NW_020848453.1, NW_020848455.1, NW_020848456.1, NW_020848457.1, NW_020848458.1, NW_020848459.1, NW_020848460.1, NW_020848462.1, NW_020848464.1, NW_020848465.1, NW_020848467.1, NW_020848468.1, NW_020848469.1, NW_020848470.1, NW_020848472.1, NW_020848473.1, NW_020848474.1, NW_020848475.1, NW_020848477.1, NW_020848478.1, NW_020848479.1, NW_020848480.1, NW_020848481.1, NW_020848482.1, NW_020848483.1, NW_020848484.1, NW_020848485.1, NW_020848486.1, NW_020848487.1, NW_020848489.1, NW_020848490.1, NW_020848491.1, NW_020848492.1, NW_020848493.1, NW_020848494.1, NW_020848495.1, NW_020848496.1, NW_020848497.1, NW_020848498.1, NW_020848499.1, NW_020848500.1, NW_020848501.1, NW_020848503.1, NW_020848504.1, NW_020848505.1, NW_020848506.1, NW_020848507.1, NW_020848508.1, NW_020848509.1, NW_020848510.1, NW_020848511.1, NW_020848512.1, NW_020848513.1, NW_020848514.1, NW_020848515.1, NW_020848516.1, NW_020848517.1, NW_020848519.1, NW_020848520.1, NW_020848521.1, NW_020848522.1, NW_020848524.1, NW_020848525.1, NW_020848526.1, NW_020848527.1, NW_020848528.1, NW_020848529.1, NW_020848530.1, NW_020848534.1, NW_020848535.1, NW_020848536.1, NW_020848537.1, NW_020848538.1, NW_020848539.1, NW_020848540.1, NW_020848541.1, NW_020848542.1, NW_020848543.1, NW_020848544.1, NW_020848545.1, NW_020848546.1, NW_020848548.1, NW_020848549.1, NW_020848551.1, NW_020848552.1, NW_020848553.1, NW_020848554.1, NW_020848555.1, NW_020848556.1, NW_020848557.1, NW_020848558.1, NW_020848559.1, NW_020848561.1, NW_020848562.1, NW_020848563.1, NW_020848564.1, NW_020848565.1, NW_020848567.1, NW_020848568.1, NW_020848569.1, NW_020848571.1, NW_020848573.1, NW_020848575.1, NW_020848576.1, NW_020848578.1, NW_020848579.1, NW_020848581.1, NW_020848582.1, NW_020848583.1, NW_020848584.1, NW_020848586.1, NW_020848587.1, NW_020848588.1, NW_020848589.1, NW_020848592.1, NW_020848593.1, NW_020848594.1, NW_020848595.1, NW_020848596.1, NW_020848597.1, NW_020848598.1, NW_020848599.1, NW_020848600.1, NW_020848601.1, NW_020848603.1, NW_020848605.1, NW_020848606.1, NW_020848607.1, NW_020848608.1, NW_020848610.1, NW_020848611.1, NW_020848612.1, NW_020848613.1, NW_020848614.1, NW_020848616.1, NW_020848617.1, NW_020848618.1, NW_020848620.1, NW_020848621.1, NW_020848623.1, NW_020848624.1, NW_020848627.1, NW_020848628.1, NW_020848629.1, NW_020848630.1, NW_020848632.1, NW_020848635.1, NW_020848636.1, NW_020848638.1, NW_020848639.1, NW_020848640.1, NW_020848642.1, NW_020848643.1, NW_020848644.1, NW_020848645.1, NW_020848646.1, NW_020848647.1, NW_020848648.1, NW_020848650.1, NW_020848651.1, NW_020848653.1, NW_020848655.1, NW_020848656.1, NW_020848657.1, NW_020848660.1, NW_020848661.1, NW_020848662.1, NW_020848663.1, NW_020848664.1, NW_020848668.1, NW_020848669.1, NW_020848672.1, NW_020848673.1, NW_020848675.1, NW_020848677.1, NW_020848678.1, NW_020848679.1, NW_020848682.1, NW_020848683.1, NW_020848684.1, NW_020848685.1, NW_020848686.1, NW_020848688.1, NW_020848689.1, NW_020848690.1, NW_020848691.1, NW_020848692.1, NW_020848693.1, NW_020848695.1, NW_020848696.1, NW_020848697.1, NW_020848698.1, NW_020848699.1, NW_020848700.1, NW_020848701.1, NW_020848704.1, NW_020848705.1, NW_020848706.1, NW_020848707.1, NW_020848708.1, NW_020848709.1, NW_020848710.1, NW_020848711.1, NW_020848713.1, NW_020848714.1, NW_020848716.1, NW_020848717.1, NW_020848719.1, NW_020848720.1, NW_020848721.1, NW_020848722.1, NW_020848723.1, NW_020848724.1, NW_020848725.1, NW_020848726.1, NW_020848727.1, NW_020848729.1, NW_020848730.1, NW_020848731.1, NW_020848732.1, NW_020848733.1, NW_020848734.1, NW_020848735.1, NW_020848736.1, NW_020848737.1, NW_020848738.1, NW_020848741.1, NW_020848742.1, NW_020848743.1, NW_020848744.1, NW_020848745.1, NW_020848747.1, NW_020848748.1, NW_020848749.1, NW_020848753.1, NW_020848754.1, NW_020848757.1, NW_020848758.1, NW_020848759.1, NW_020848761.1, NW_020848762.1, NW_020848764.1, NW_020848765.1, NW_020848766.1, NW_020848767.1, NW_020848769.1, NW_020848770.1, NW_020848771.1, NW_020848777.1, NW_020848778.1, NW_020848779.1, NW_020848781.1, NW_020848782.1, NW_020848783.1, NW_020848784.1, NW_020848785.1, NW_020848789.1, NW_020848790.1, NW_020848793.1, NW_020848796.1, NW_020848798.1, NW_020848800.1, NW_020848801.1, NW_020848803.1, NW_020848804.1, NW_020848807.1, NW_020848808.1, NW_020848811.1, NW_020848812.1, NW_020848816.1, NW_020848818.1, NW_020848823.1, NW_020848824.1, NW_020848826.1, NW_020848827.1, NW_020848829.1, NW_020848830.1, NW_020848831.1, NW_020848832.1, NW_020848833.1, NW_020848835.1, NW_020848836.1, NW_020848837.1, NW_020848840.1, NW_020848843.1, NW_020848847.1, NW_020848848.1, NW_020848850.1, NW_020848851.1, NW_020848852.1, NW_020848853.1, NW_020848854.1, NW_020848856.1, NW_020848857.1, NW_020848858.1, NW_020848859.1, NW_020848860.1, NW_020848861.1, NW_020848862.1, NW_020848864.1, NW_020848866.1, NW_020848868.1, NW_020848869.1, NW_020848870.1, NW_020848871.1, NW_020848874.1, NW_020848876.1, NW_020848877.1, NW_020848878.1, NW_020848879.1, NW_020848882.1, NW_020848885.1, NW_020848887.1, NW_020848890.1, NW_020848891.1, NW_020848896.1, NW_020848897.1, NW_020848898.1, NW_020848899.1, NW_020848900.1, NW_020848901.1, NW_020848902.1, NW_020848903.1, NW_020848904.1, NW_020848905.1, NW_020848906.1, NW_020848907.1, NW_020848908.1, NW_020848909.1, NW_020848910.1, NW_020848911.1, NW_020848912.1, NW_020848914.1, NW_020848915.1, NW_020848916.1, NW_020848917.1, NW_020848918.1, NW_020848919.1, NW_020848920.1, NW_020848921.1, NW_020848922.1, NW_020848923.1, NW_020848925.1, NW_020848927.1, NW_020848928.1, NW_020848930.1, NW_020848931.1, NW_020848932.1, NW_020848934.1, NW_020848936.1, NW_020848937.1, NW_020848938.1, NW_020848940.1, NW_020848941.1, NW_020848942.1, NW_020848943.1, NW_020848944.1, NW_020848945.1, NW_020848946.1, NW_020848947.1, NW_020848948.1, NW_020848949.1, NW_020848951.1, NW_020848952.1, NW_020848953.1, NW_020848954.1, NW_020848955.1, NW_020848956.1, NW_020848958.1, NW_020848959.1, NW_020848960.1, NW_020848961.1, NW_020848962.1, NW_020848963.1, NW_020848964.1, NW_020848965.1, NW_020848966.1, NW_020848968.1, NW_020848969.1, NW_020848970.1, NW_020848973.1, NW_020848974.1, NW_020848976.1, NW_020848978.1, NW_020848979.1, NW_020848980.1, NW_020848981.1, NW_020848982.1, NW_020848983.1, NW_020848984.1, NW_020848986.1, NW_020848987.1, NW_020848988.1, NW_020848989.1, NW_020848990.1, NW_020848991.1, NW_020848992.1, NW_020848994.1, NW_020848995.1, NW_020848996.1, NW_020848997.1, NW_020848998.1, NW_020848999.1, NW_020849000.1, NW_020849001.1, NW_020849002.1, NW_020849003.1, NW_020849005.1, NW_020849006.1, NW_020849007.1, NW_020849008.1, NW_020849009.1, NW_020849010.1, NW_020849011.1, NW_020849012.1, NW_020849014.1, NW_020849015.1, NW_020849016.1, NW_020849017.1, NW_020849018.1, NW_020849019.1, NW_020849020.1, NW_020849021.1, NW_020849022.1, NW_020849023.1, NW_020849024.1, NW_020849025.1, NW_020849026.1, NW_020849027.1, NW_020849028.1, NW_020849029.1, NW_020849030.1, NW_020849031.1, NW_020849032.1, NW_020849033.1, NW_020849034.1, NW_020849035.1, NW_020849036.1, NW_020849037.1, NW_020849038.1, NW_020849039.1, NW_020849040.1, NW_020849041.1, NW_020849042.1, NW_020849043.1, NW_020849044.1, NW_020849045.1, NW_020849047.1, NW_020849048.1, NW_020849049.1, NW_020849052.1, NW_020849053.1, NW_020849054.1, NW_020849055.1, NW_020849056.1, NW_020849057.1, NW_020849058.1, NW_020849059.1, NW_020849060.1, NW_020849062.1, NW_020849063.1, NW_020849064.1, NW_020849065.1, NW_020849067.1, NW_020849070.1, NW_020849072.1, NW_020849073.1, NW_020849074.1, NW_020849076.1, NW_020849077.1, NW_020849079.1, NW_020849081.1, NW_020849082.1, NW_020849083.1, NW_020849084.1, NW_020849085.1, NW_020849086.1, NW_020849087.1, NW_020849088.1, NW_020849089.1, NW_020849090.1, NW_020849091.1, NW_020849096.1, NW_020849097.1, NW_020849098.1, NW_020849099.1, NW_020849100.1, NW_020849101.1, NW_020849102.1, NW_020849104.1, NW_020849107.1, NW_020849108.1, NW_020849109.1, NW_020849111.1, NW_020849112.1, NW_020849114.1, NW_020849115.1, NW_020849117.1, NW_020849118.1, NW_020849119.”\n"
     ]
    },
    {
     "name": "stderr",
     "output_type": "stream",
     "text": [
      "Warning message in .Seqinfo.mergexy(x, y):\n",
      "“Each of the 2 combined objects has sequence levels not in the other:\n",
      "  - in 'x': NW_020848442.1, NW_020848443.1, NW_020848444.1, NW_020848445.1, NW_020848447.1, NW_020848448.1, NW_020848450.1, NW_020848453.1, NW_020848455.1, NW_020848456.1, NW_020848457.1, NW_020848458.1, NW_020848459.1, NW_020848460.1, NW_020848462.1, NW_020848464.1, NW_020848465.1, NW_020848467.1, NW_020848468.1, NW_020848469.1, NW_020848470.1, NW_020848472.1, NW_020848473.1, NW_020848474.1, NW_020848475.1, NW_020848477.1, NW_020848478.1, NW_020848479.1, NW_020848480.1, NW_020848481.1, NW_020848482.1, NW_020848483.1, NW_020848484.1, NW_020848485.1, NW_020848486.1, NW_020848487.1, NW_020848489.1, NW_020848490.1, NW_020848491.1, NW_020848492.1, NW_020848493.1, NW_020848494.1, NW_020848495.1, NW_020848496.1, NW_020848497.1, NW_020848498.1, NW_020848499.1, NW_020848500.1, NW_020848501.1, NW_020848503.1, NW_020848504.1, NW_020848505.1, NW_020848506.1, NW_020848507.1, NW_020848508.1, NW_020848509.1, NW_020848510.1, NW_020848511.1, NW_020848512.1, NW_020848513.1, NW_020848514.1, NW_020848515.1, NW_020848516.1, NW_020848517.1, NW_020848519.1, NW_020848520.1, NW_020848521.1, NW_020848522.1, NW_020848524.1, NW_020848525.1, NW_020848526.1, NW_020848527.1, NW_020848528.1, NW_020848529.1, NW_020848530.1, NW_020848534.1, NW_020848535.1, NW_020848536.1, NW_020848537.1, NW_020848538.1, NW_020848539.1, NW_020848540.1, NW_020848541.1, NW_020848542.1, NW_020848543.1, NW_020848544.1, NW_020848545.1, NW_020848546.1, NW_020848548.1, NW_020848549.1, NW_020848551.1, NW_020848552.1, NW_020848553.1, NW_020848554.1, NW_020848555.1, NW_020848556.1, NW_020848557.1, NW_020848558.1, NW_020848559.1, NW_020848561.1, NW_020848562.1, NW_020848563.1, NW_020848564.1, NW_020848565.1, NW_020848567.1, NW_020848568.1, NW_020848569.1, NW_020848571.1, NW_020848573.1, NW_020848575.1, NW_020848576.1, NW_020848578.1, NW_020848579.1, NW_020848581.1, NW_020848582.1, NW_020848583.1, NW_020848584.1, NW_020848586.1, NW_020848587.1, NW_020848588.1, NW_020848589.1, NW_020848592.1, NW_020848593.1, NW_020848594.1, NW_020848595.1, NW_020848596.1, NW_020848597.1, NW_020848598.1, NW_020848599.1, NW_020848600.1, NW_020848601.1, NW_020848603.1, NW_020848605.1, NW_020848606.1, NW_020848607.1, NW_020848608.1, NW_020848610.1, NW_020848611.1, NW_020848612.1, NW_020848613.1, NW_020848614.1, NW_020848616.1, NW_020848617.1, NW_020848618.1, NW_020848620.1, NW_020848621.1, NW_020848623.1, NW_020848624.1, NW_020848627.1, NW_020848628.1, NW_020848629.1, NW_020848630.1, NW_020848632.1, NW_020848635.1, NW_020848636.1, NW_020848638.1, NW_020848639.1, NW_020848640.1, NW_020848642.1, NW_020848643.1, NW_020848644.1, NW_020848645.1, NW_020848646.1, NW_020848647.1, NW_020848648.1, NW_020848650.1, NW_020848651.1, NW_020848653.1, NW_020848655.1, NW_020848656.1, NW_020848657.1, NW_020848660.1, NW_020848661.1, NW_020848662.1, NW_020848663.1, NW_020848664.1, NW_020848668.1, NW_020848669.1, NW_020848672.1, NW_020848673.1, NW_020848675.1, NW_020848677.1, NW_020848678.1, NW_020848679.1, NW_020848682.1, NW_020848683.1, NW_020848684.1, NW_020848685.1, NW_020848686.1, NW_020848688.1, NW_020848689.1, NW_020848690.1, NW_020848691.1, NW_020848692.1, NW_020848693.1, NW_020848695.1, NW_020848696.1, NW_020848697.1, NW_020848698.1, NW_020848699.1, NW_020848700.1, NW_020848701.1, NW_020848704.1, NW_020848705.1, NW_020848706.1, NW_020848707.1, NW_020848708.1, NW_020848709.1, NW_020848710.1, NW_020848711.1, NW_020848713.1, NW_020848714.1, NW_020848716.1, NW_020848717.1, NW_020848719.1, NW_020848720.1, NW_020848721.1, NW_020848722.1, NW_020848723.1, NW_020848724.1, NW_020848725.1, NW_020848726.1, NW_020848727.1, NW_020848729.1, NW_020848730.1, NW_020848731.1, NW_020848732.1, NW_020848733.1, NW_020848734.1, NW_020848735.1, NW_020848736.1, NW_020848737.1, NW_020848738.1, NW_020848741.1, NW_020848742.1, NW_020848743.1, NW_020848744.1, NW_020848745.1, NW_020848747.1, NW_020848748.1, NW_020848749.1, NW_020848753.1, NW_020848754.1, NW_020848757.1, NW_020848758.1, NW_020848759.1, NW_020848761.1, NW_020848762.1, NW_020848764.1, NW_020848765.1, NW_020848766.1, NW_020848767.1, NW_020848769.1, NW_020848770.1, NW_020848771.1, NW_020848777.1, NW_020848778.1, NW_020848779.1, NW_020848781.1, NW_020848782.1, NW_020848783.1, NW_020848784.1, NW_020848785.1, NW_020848789.1, NW_020848790.1, NW_020848793.1, NW_020848796.1, NW_020848798.1, NW_020848800.1, NW_020848801.1, NW_020848803.1, NW_020848804.1, NW_020848807.1, NW_020848808.1, NW_020848811.1, NW_020848812.1, NW_020848816.1, NW_020848818.1, NW_020848823.1, NW_020848824.1, NW_020848826.1, NW_020848827.1, NW_020848829.1, NW_020848830.1, NW_020848831.1, NW_020848832.1, NW_020848833.1, NW_020848835.1, NW_020848836.1, NW_020848837.1, NW_020848840.1, NW_020848843.1, NW_020848847.1, NW_020848848.1, NW_020848850.1, NW_020848851.1, NW_020848852.1, NW_020848853.1, NW_020848854.1, NW_020848856.1, NW_020848857.1, NW_020848858.1, NW_020848859.1, NW_020848860.1, NW_020848861.1, NW_020848862.1, NW_020848864.1, NW_020848866.1, NW_020848868.1, NW_020848869.1, NW_020848870.1, NW_020848871.1, NW_020848874.1, NW_020848876.1, NW_020848877.1, NW_020848878.1, NW_020848879.1, NW_020848882.1, NW_020848885.1, NW_020848887.1, NW_020848890.1, NW_020848891.1, NW_020848896.1, NW_020848897.1, NW_020848898.1, NW_020848899.1, NW_020848900.1, NW_020848901.1, NW_020848902.1, NW_020848903.1, NW_020848904.1, NW_020848905.1, NW_020848906.1, NW_020848907.1, NW_020848908.1, NW_020848909.1, NW_020848910.1, NW_020848911.1, NW_020848912.1, NW_020848914.1, NW_020848915.1, NW_020848916.1, NW_020848917.1, NW_020848918.1, NW_020848919.1, NW_020848920.1, NW_020848921.1, NW_020848922.1, NW_020848923.1, NW_020848925.1, NW_020848927.1, NW_020848928.1, NW_020848930.1, NW_020848931.1, NW_020848932.1, NW_020848934.1, NW_020848936.1, NW_020848937.1, NW_020848938.1, NW_020848940.1, NW_020848941.1, NW_020848942.1, NW_020848943.1, NW_020848944.1, NW_020848945.1, NW_020848946.1, NW_020848947.1, NW_020848948.1, NW_020848949.1, NW_020848951.1, NW_020848952.1, NW_020848953.1, NW_020848954.1, NW_020848955.1, NW_020848956.1, NW_020848958.1, NW_020848959.1, NW_020848960.1, NW_020848961.1, NW_020848962.1, NW_020848963.1, NW_020848964.1, NW_020848965.1, NW_020848966.1, NW_020848968.1, NW_020848969.1, NW_020848970.1, NW_020848973.1, NW_020848974.1, NW_020848976.1, NW_020848978.1, NW_020848979.1, NW_020848980.1, NW_020848981.1, NW_020848982.1, NW_020848983.1, NW_020848984.1, NW_020848986.1, NW_020848987.1, NW_020848988.1, NW_020848989.1, NW_020848990.1, NW_020848991.1, NW_020848992.1, NW_020848994.1, NW_020848995.1, NW_020848996.1, NW_020848997.1, NW_020848998.1, NW_020848999.1, NW_020849000.1, NW_020849001.1, NW_020849002.1, NW_020849003.1, NW_020849005.1, NW_020849006.1, NW_020849007.1, NW_020849008.1, NW_020849009.1, NW_020849010.1, NW_020849011.1, NW_020849012.1, NW_020849014.1, NW_020849015.1, NW_020849016.1, NW_020849017.1, NW_020849018.1, NW_020849019.1, NW_020849020.1, NW_020849021.1, NW_020849022.1, NW_020849023.1, NW_020849024.1, NW_020849025.1, NW_020849026.1, NW_020849027.1, NW_020849028.1, NW_020849029.1, NW_020849030.1, NW_020849031.1, NW_020849032.1, NW_020849033.1, NW_020849034.1, NW_020849035.1, NW_020849036.1, NW_020849037.1, NW_020849038.1, NW_020849039.1, NW_020849040.1, NW_020849041.1, NW_020849042.1, NW_020849043.1, NW_020849044.1, NW_020849045.1, NW_020849047.1, NW_020849048.1, NW_020849049.1, NW_020849052.1, NW_020849053.1, NW_020849054.1, NW_020849055.1, NW_020849056.1, NW_020849057.1, NW_020849058.1, NW_020849059.1, NW_020849060.1, NW_020849062.1, NW_020849063.1, NW_020849064.1, NW_020849065.1, NW_020849067.1, NW_020849070.1, NW_020849072.1, NW_020849073.1, NW_020849074.1, NW_020849076.1, NW_020849077.1, NW_020849079.1, NW_020849081.1, NW_020849082.1, NW_020849083.1, NW_020849084.1, NW_020849085.1, NW_020849086.1, NW_020849087.1, NW_020849088.1, NW_020849089.1, NW_020849090.1, NW_020849091.1, NW_020849096.1, NW_020849097.1, NW_020849098.1, NW_020849099.1, NW_020849100.1, NW_020849101.1, NW_020849102.1, NW_020849104.1, NW_020849107.1, NW_020849108.1, NW_020849109.1, NW_020849111.1, NW_020849112.1, NW_020849114.1, NW_020849115.1, NW_020849117.1, NW_020849118.1, NW_020849119.”\n"
     ]
    },
    {
     "name": "stderr",
     "output_type": "stream",
     "text": [
      "Warning message in .Seqinfo.mergexy(x, y):\n",
      "“Each of the 2 combined objects has sequence levels not in the other:\n",
      "  - in 'x': NW_020848442.1, NW_020848443.1, NW_020848444.1, NW_020848445.1, NW_020848447.1, NW_020848448.1, NW_020848450.1, NW_020848453.1, NW_020848455.1, NW_020848456.1, NW_020848457.1, NW_020848458.1, NW_020848459.1, NW_020848460.1, NW_020848462.1, NW_020848464.1, NW_020848465.1, NW_020848467.1, NW_020848468.1, NW_020848469.1, NW_020848470.1, NW_020848472.1, NW_020848473.1, NW_020848474.1, NW_020848475.1, NW_020848477.1, NW_020848478.1, NW_020848479.1, NW_020848480.1, NW_020848481.1, NW_020848482.1, NW_020848483.1, NW_020848484.1, NW_020848485.1, NW_020848486.1, NW_020848487.1, NW_020848489.1, NW_020848490.1, NW_020848491.1, NW_020848492.1, NW_020848493.1, NW_020848494.1, NW_020848495.1, NW_020848496.1, NW_020848497.1, NW_020848498.1, NW_020848499.1, NW_020848500.1, NW_020848501.1, NW_020848503.1, NW_020848504.1, NW_020848505.1, NW_020848506.1, NW_020848507.1, NW_020848508.1, NW_020848509.1, NW_020848510.1, NW_020848511.1, NW_020848512.1, NW_020848513.1, NW_020848514.1, NW_020848515.1, NW_020848516.1, NW_020848517.1, NW_020848519.1, NW_020848520.1, NW_020848521.1, NW_020848522.1, NW_020848524.1, NW_020848525.1, NW_020848526.1, NW_020848527.1, NW_020848528.1, NW_020848529.1, NW_020848530.1, NW_020848534.1, NW_020848535.1, NW_020848536.1, NW_020848537.1, NW_020848538.1, NW_020848539.1, NW_020848540.1, NW_020848541.1, NW_020848542.1, NW_020848543.1, NW_020848544.1, NW_020848545.1, NW_020848546.1, NW_020848548.1, NW_020848549.1, NW_020848551.1, NW_020848552.1, NW_020848553.1, NW_020848554.1, NW_020848555.1, NW_020848556.1, NW_020848557.1, NW_020848558.1, NW_020848559.1, NW_020848561.1, NW_020848562.1, NW_020848563.1, NW_020848564.1, NW_020848565.1, NW_020848567.1, NW_020848568.1, NW_020848569.1, NW_020848571.1, NW_020848573.1, NW_020848575.1, NW_020848576.1, NW_020848578.1, NW_020848579.1, NW_020848581.1, NW_020848582.1, NW_020848583.1, NW_020848584.1, NW_020848586.1, NW_020848587.1, NW_020848588.1, NW_020848589.1, NW_020848592.1, NW_020848593.1, NW_020848594.1, NW_020848595.1, NW_020848596.1, NW_020848597.1, NW_020848598.1, NW_020848599.1, NW_020848600.1, NW_020848601.1, NW_020848603.1, NW_020848605.1, NW_020848606.1, NW_020848607.1, NW_020848608.1, NW_020848610.1, NW_020848611.1, NW_020848612.1, NW_020848613.1, NW_020848614.1, NW_020848616.1, NW_020848617.1, NW_020848618.1, NW_020848620.1, NW_020848621.1, NW_020848623.1, NW_020848624.1, NW_020848627.1, NW_020848628.1, NW_020848629.1, NW_020848630.1, NW_020848632.1, NW_020848635.1, NW_020848636.1, NW_020848638.1, NW_020848639.1, NW_020848640.1, NW_020848642.1, NW_020848643.1, NW_020848644.1, NW_020848645.1, NW_020848646.1, NW_020848647.1, NW_020848648.1, NW_020848650.1, NW_020848651.1, NW_020848653.1, NW_020848655.1, NW_020848656.1, NW_020848657.1, NW_020848660.1, NW_020848661.1, NW_020848662.1, NW_020848663.1, NW_020848664.1, NW_020848668.1, NW_020848669.1, NW_020848672.1, NW_020848673.1, NW_020848675.1, NW_020848677.1, NW_020848678.1, NW_020848679.1, NW_020848682.1, NW_020848683.1, NW_020848684.1, NW_020848685.1, NW_020848686.1, NW_020848688.1, NW_020848689.1, NW_020848690.1, NW_020848691.1, NW_020848692.1, NW_020848693.1, NW_020848695.1, NW_020848696.1, NW_020848697.1, NW_020848698.1, NW_020848699.1, NW_020848700.1, NW_020848701.1, NW_020848704.1, NW_020848705.1, NW_020848706.1, NW_020848707.1, NW_020848708.1, NW_020848709.1, NW_020848710.1, NW_020848711.1, NW_020848713.1, NW_020848714.1, NW_020848716.1, NW_020848717.1, NW_020848719.1, NW_020848720.1, NW_020848721.1, NW_020848722.1, NW_020848723.1, NW_020848724.1, NW_020848725.1, NW_020848726.1, NW_020848727.1, NW_020848729.1, NW_020848730.1, NW_020848731.1, NW_020848732.1, NW_020848733.1, NW_020848734.1, NW_020848735.1, NW_020848736.1, NW_020848737.1, NW_020848738.1, NW_020848741.1, NW_020848742.1, NW_020848743.1, NW_020848744.1, NW_020848745.1, NW_020848747.1, NW_020848748.1, NW_020848749.1, NW_020848753.1, NW_020848754.1, NW_020848757.1, NW_020848758.1, NW_020848759.1, NW_020848761.1, NW_020848762.1, NW_020848764.1, NW_020848765.1, NW_020848766.1, NW_020848767.1, NW_020848769.1, NW_020848770.1, NW_020848771.1, NW_020848777.1, NW_020848778.1, NW_020848779.1, NW_020848781.1, NW_020848782.1, NW_020848783.1, NW_020848784.1, NW_020848785.1, NW_020848789.1, NW_020848790.1, NW_020848793.1, NW_020848796.1, NW_020848798.1, NW_020848800.1, NW_020848801.1, NW_020848803.1, NW_020848804.1, NW_020848807.1, NW_020848808.1, NW_020848811.1, NW_020848812.1, NW_020848816.1, NW_020848818.1, NW_020848823.1, NW_020848824.1, NW_020848826.1, NW_020848827.1, NW_020848829.1, NW_020848830.1, NW_020848831.1, NW_020848832.1, NW_020848833.1, NW_020848835.1, NW_020848836.1, NW_020848837.1, NW_020848840.1, NW_020848843.1, NW_020848847.1, NW_020848848.1, NW_020848850.1, NW_020848851.1, NW_020848852.1, NW_020848853.1, NW_020848854.1, NW_020848856.1, NW_020848857.1, NW_020848858.1, NW_020848859.1, NW_020848860.1, NW_020848861.1, NW_020848862.1, NW_020848864.1, NW_020848866.1, NW_020848868.1, NW_020848869.1, NW_020848870.1, NW_020848871.1, NW_020848874.1, NW_020848876.1, NW_020848877.1, NW_020848878.1, NW_020848879.1, NW_020848882.1, NW_020848885.1, NW_020848887.1, NW_020848890.1, NW_020848891.1, NW_020848896.1, NW_020848897.1, NW_020848898.1, NW_020848899.1, NW_020848900.1, NW_020848901.1, NW_020848902.1, NW_020848903.1, NW_020848904.1, NW_020848905.1, NW_020848906.1, NW_020848907.1, NW_020848908.1, NW_020848909.1, NW_020848910.1, NW_020848911.1, NW_020848912.1, NW_020848914.1, NW_020848915.1, NW_020848916.1, NW_020848917.1, NW_020848918.1, NW_020848919.1, NW_020848920.1, NW_020848921.1, NW_020848922.1, NW_020848923.1, NW_020848925.1, NW_020848927.1, NW_020848928.1, NW_020848930.1, NW_020848931.1, NW_020848932.1, NW_020848934.1, NW_020848936.1, NW_020848937.1, NW_020848938.1, NW_020848940.1, NW_020848941.1, NW_020848942.1, NW_020848943.1, NW_020848944.1, NW_020848945.1, NW_020848946.1, NW_020848947.1, NW_020848948.1, NW_020848949.1, NW_020848951.1, NW_020848952.1, NW_020848953.1, NW_020848954.1, NW_020848955.1, NW_020848956.1, NW_020848958.1, NW_020848959.1, NW_020848960.1, NW_020848961.1, NW_020848962.1, NW_020848963.1, NW_020848964.1, NW_020848965.1, NW_020848966.1, NW_020848968.1, NW_020848969.1, NW_020848970.1, NW_020848973.1, NW_020848974.1, NW_020848976.1, NW_020848978.1, NW_020848979.1, NW_020848980.1, NW_020848981.1, NW_020848982.1, NW_020848983.1, NW_020848984.1, NW_020848986.1, NW_020848987.1, NW_020848988.1, NW_020848989.1, NW_020848990.1, NW_020848991.1, NW_020848992.1, NW_020848994.1, NW_020848995.1, NW_020848996.1, NW_020848997.1, NW_020848998.1, NW_020848999.1, NW_020849000.1, NW_020849001.1, NW_020849002.1, NW_020849003.1, NW_020849005.1, NW_020849006.1, NW_020849007.1, NW_020849008.1, NW_020849009.1, NW_020849010.1, NW_020849011.1, NW_020849012.1, NW_020849014.1, NW_020849015.1, NW_020849016.1, NW_020849017.1, NW_020849018.1, NW_020849019.1, NW_020849020.1, NW_020849021.1, NW_020849022.1, NW_020849023.1, NW_020849024.1, NW_020849025.1, NW_020849026.1, NW_020849027.1, NW_020849028.1, NW_020849029.1, NW_020849030.1, NW_020849031.1, NW_020849032.1, NW_020849033.1, NW_020849034.1, NW_020849035.1, NW_020849036.1, NW_020849037.1, NW_020849038.1, NW_020849039.1, NW_020849040.1, NW_020849041.1, NW_020849042.1, NW_020849043.1, NW_020849044.1, NW_020849045.1, NW_020849047.1, NW_020849048.1, NW_020849049.1, NW_020849052.1, NW_020849053.1, NW_020849054.1, NW_020849055.1, NW_020849056.1, NW_020849057.1, NW_020849058.1, NW_020849059.1, NW_020849060.1, NW_020849062.1, NW_020849063.1, NW_020849064.1, NW_020849065.1, NW_020849067.1, NW_020849070.1, NW_020849072.1, NW_020849073.1, NW_020849074.1, NW_020849076.1, NW_020849077.1, NW_020849079.1, NW_020849081.1, NW_020849082.1, NW_020849083.1, NW_020849084.1, NW_020849085.1, NW_020849086.1, NW_020849087.1, NW_020849088.1, NW_020849089.1, NW_020849090.1, NW_020849091.1, NW_020849096.1, NW_020849097.1, NW_020849098.1, NW_020849099.1, NW_020849100.1, NW_020849101.1, NW_020849102.1, NW_020849104.1, NW_020849107.1, NW_020849108.1, NW_020849109.1, NW_020849111.1, NW_020849112.1, NW_020849114.1, NW_020849115.1, NW_020849117.1, NW_020849118.1, NW_020849119.”\n"
     ]
    },
    {
     "data": {
      "text/html": [
       "0.825241740590581"
      ],
      "text/latex": [
       "0.825241740590581"
      ],
      "text/markdown": [
       "0.825241740590581"
      ],
      "text/plain": [
       "[1] 0.8252417"
      ]
     },
     "metadata": {},
     "output_type": "display_data"
    },
    {
     "data": {
      "text/html": [
       "0.895620803450876"
      ],
      "text/latex": [
       "0.895620803450876"
      ],
      "text/markdown": [
       "0.895620803450876"
      ],
      "text/plain": [
       "[1] 0.8956208"
      ]
     },
     "metadata": {},
     "output_type": "display_data"
    },
    {
     "data": {
      "text/html": [
       "0.919217324273317"
      ],
      "text/latex": [
       "0.919217324273317"
      ],
      "text/markdown": [
       "0.919217324273317"
      ],
      "text/plain": [
       "[1] 0.9192173"
      ]
     },
     "metadata": {},
     "output_type": "display_data"
    }
   ],
   "source": [
    "fr <- fraction.reads.target(reads,targets)\n",
    "fr_offset100 <- fraction.reads.target(reads,targets, Offset=100)\n",
    "fr_offset200 <- fraction.reads.target(reads,targets, Offset=200)\n",
    "fr\n",
    "fr_offset100\n",
    "fr_offset200"
   ]
  },
  {
   "cell_type": "markdown",
   "metadata": {},
   "source": [
    "**fr** = 0.825241740590581    \n",
    "\n",
    "**fr_offset100** = 0.895620803450876    \n",
    "\n",
    "**fr_offset200** = 0.919217324273317    "
   ]
  },
  {
   "cell_type": "markdown",
   "metadata": {},
   "source": [
    "### READS PER CHROMOSOME BARPLOT"
   ]
  },
  {
   "cell_type": "markdown",
   "metadata": {},
   "source": [
    "**`chrom.barplot(reads, targets, plotchroms)`**:\n",
    "- barplot of numbers (or fractions) of reads (and targets) falling on each chromosome.\n",
    "- ***reads***:\n",
    "    - table containing read positions, i.e. output from **`get.reads()`**.\n",
    "- ***targets***:\n",
    "    - table containing positions of target regions, i.e. output from **`get.targets()`**. \n",
    "    - the chromosome information should match the one of **`reads`**.\n",
    "- ***plotchroms***:\n",
    "    - character vector specifying the chromosomes that shall be included in the plot (and their desired order)."
   ]
  },
  {
   "cell_type": "markdown",
   "metadata": {},
   "source": [
    "The functions **`pdf(\"name-of-pdf-file.pdf\")`** and **`dev.off()`** are used to open a pdf file, write the image into it, and close the pdf file."
   ]
  },
  {
   "cell_type": "code",
   "execution_count": 14,
   "metadata": {},
   "outputs": [
    {
     "data": {
      "image/png": "[encoded data removed]",
      "text/plain": [
       "plot without title"
      ]
     },
     "metadata": {
      "image/png": {
       "height": 420,
       "width": 420
      }
     },
     "output_type": "display_data"
    }
   ],
   "source": [
    "# pdf(\"On-target-Chrom-barplot-rplot.pdf\")\n",
    "chrom.barplot(reads, targets,c(\"NC_039907.1\",\"NC_039908.1\",\"NC_039909.1\",\"NC_039910.1\",\"NC_039911.1\",\"NC_039912.1\",\"NC_039913.1\",\"NC_039914.1\",\"NC_039915.1\",\"NC_039916.1\",\"NC_039917.1\",\"NC_039918.1\",\"NC_039919.1\",\"NC_008535.1\"))\n",
    "# dev.off()"
   ]
  },
  {
   "cell_type": "markdown",
   "metadata": {},
   "source": [
    "### ENRICHMENT CALCULATION"
   ]
  },
  {
   "cell_type": "markdown",
   "metadata": {},
   "source": [
    "\n",
    "$enrichment = \\displaystyle \\frac{fraction\\ of\\ on-target\\ reads\\ (fr)}{fraction\\ of\\ target\\ within\\ genome\\ (ft)}$\n"
   ]
  },
  {
   "cell_type": "code",
   "execution_count": 15,
   "metadata": {},
   "outputs": [
    {
     "data": {
      "text/html": [
       "7.19894084747659"
      ],
      "text/latex": [
       "7.19894084747659"
      ],
      "text/markdown": [
       "7.19894084747659"
      ],
      "text/plain": [
       "[1] 7.198941"
      ]
     },
     "metadata": {},
     "output_type": "display_data"
    },
    {
     "data": {
      "text/html": [
       "7.81288787113236"
      ],
      "text/latex": [
       "7.81288787113236"
      ],
      "text/markdown": [
       "7.81288787113236"
      ],
      "text/plain": [
       "[1] 7.812888"
      ]
     },
     "metadata": {},
     "output_type": "display_data"
    },
    {
     "data": {
      "text/html": [
       "8.0187305342597"
      ],
      "text/latex": [
       "8.0187305342597"
      ],
      "text/markdown": [
       "8.0187305342597"
      ],
      "text/plain": [
       "[1] 8.018731"
      ]
     },
     "metadata": {},
     "output_type": "display_data"
    }
   ],
   "source": [
    "fr/ft\n",
    "fr_offset100/ft\n",
    "fr_offset200/ft"
   ]
  },
  {
   "cell_type": "markdown",
   "metadata": {},
   "source": [
    "# COVERAGE"
   ]
  },
  {
   "cell_type": "markdown",
   "metadata": {},
   "source": [
    "**`coverage.target(reads, targets, Offset, perTarget, perBase)`**:\n",
    "- calculates read coverage for each base that is sequenced and/or located in the target region.\n",
    "- ***reads***:\n",
    "    - table containing positions of sequenced reads, i.e. output from **`get.reads()`**.\n",
    "- ***targets***:\n",
    "    - table containing positions of target regions, i.e. output from **`get.targets()`**.\n",
    "- ***Offset***:\n",
    "    - integer; add `Offset` bases on both sides to targeted regions and potentially collapse resulting overlapping target regions.\n",
    "- ***perTarget***:\n",
    "    - if TRUE, coverage average and standard deviation per target are calculated and returned.\n",
    "- ***perBase***:\n",
    "    - if TRUE, the per-base coverages:\n",
    "        1. only for targeted bases, and \n",
    "        2. for all sequenced and/or targeted bases, are returned.\n",
    "\n",
    "**`readsPerTarget(reads, targets, Offset)`**:\n",
    "- counts the numbers of reads overlapping each target region.\n",
    "- ***reads***:\n",
    "    - table containing positions of sequenced reads, i.e. output from **`get.reads()`**.\n",
    "- ***targets***:\n",
    "    - table containing positions of target regions, i.e. output from **`get.targets()`**.\n",
    "- ***Offset***:\n",
    "    - integer; add `Offset` bases on both sides to targeted regions and potentially collapse resulting overlapping target regions."
   ]
  },
  {
   "cell_type": "code",
   "execution_count": 16,
   "metadata": {},
   "outputs": [
    {
     "name": "stderr",
     "output_type": "stream",
     "text": [
      "Warning message in .Seqinfo.mergexy(x, y):\n",
      "“Each of the 2 combined objects has sequence levels not in the other:\n",
      "  - in 'x': NW_020848580.1, NW_020849658.1, NW_020850188.1, NW_020850423.1\n",
      "  - in 'y': NW_020848442.1, NW_020848443.1, NW_020848444.1, NW_020848445.1, NW_020848447.1, NW_020848448.1, NW_020848450.1, NW_020848453.1, NW_020848455.1, NW_020848456.1, NW_020848457.1, NW_020848458.1, NW_020848459.1, NW_020848460.1, NW_020848462.1, NW_020848464.1, NW_020848465.1, NW_020848467.1, NW_020848468.1, NW_020848469.1, NW_020848470.1, NW_020848472.1, NW_020848473.1, NW_020848474.1, NW_020848475.1, NW_020848477.1, NW_020848478.1, NW_020848479.1, NW_020848480.1, NW_020848481.1, NW_020848482.1, NW_020848483.1, NW_020848484.1, NW_020848485.1, NW_020848486.1, NW_020848487.1, NW_020848489.1, NW_020848490.1, NW_020848491.1, NW_020848492.1, NW_020848493.1, NW_020848494.1, NW_020848495.1, NW_020848496.1, NW_020848497.1, NW_020848498.1, NW_020848499.1, NW_020848500.1, NW_020848501.1, NW_020848503.1, NW_020848504.1, NW_020848505.1, NW_020848506.1, NW_020848507.1, NW_020848508.1, NW_020848509.1, NW_020848510.1, NW_020848511.1, NW_020848512.1, NW_020848513.1, NW_020848514.1, NW_020848515.1, NW_020848516.1, NW_020848517.1, NW_020848519.1, NW_020848520.1, NW_020848521.1, NW_020848522.1, NW_020848524.1, NW_020848525.1, NW_020848526.1, NW_020848527.1, NW_020848528.1, NW_020848529.1, NW_020848530.1, NW_020848534.1, NW_020848535.1, NW_020848536.1, NW_020848537.1, NW_020848538.1, NW_020848539.1, NW_020848540.1, NW_020848541.1, NW_020848542.1, NW_020848543.1, NW_020848544.1, NW_020848545.1, NW_020848546.1, NW_020848548.1, NW_020848549.1, NW_020848551.1, NW_020848552.1, NW_020848553.1, NW_020848554.1, NW_020848555.1, NW_020848556.1, NW_020848557.1, NW_020848558.1, NW_020848559.1, NW_020848561.1, NW_020848562.1, NW_020848563.1, NW_020848564.1, NW_020848565.1, NW_020848567.1, NW_020848568.1, NW_020848569.1, NW_020848571.1, NW_020848573.1, NW_020848575.1, NW_020848576.1, NW_020848578.1, NW_020848579.1, NW_020848581.1, NW_020848582.1, NW_020848583.1, NW_020848584.1, NW_020848586.1, NW_020848587.1, NW_020848588.1, NW_020848589.1, NW_020848592.1, NW_020848593.1, NW_020848594.1, NW_020848595.1, NW_020848596.1, NW_020848597.1, NW_020848598.1, NW_020848599.1, NW_020848600.1, NW_020848601.1, NW_020848603.1, NW_020848605.1, NW_020848606.1, NW_020848607.1, NW_020848608.1, NW_020848610.1, NW_020848611.1, NW_020848612.1, NW_020848613.1, NW_020848614.1, NW_020848616.1, NW_020848617.1, NW_020848618.1, NW_020848620.1, NW_020848621.1, NW_020848623.1, NW_020848624.1, NW_020848627.1, NW_020848628.1, NW_020848629.1, NW_020848630.1, NW_020848632.1, NW_020848635.1, NW_020848636.1, NW_020848638.1, NW_020848639.1, NW_020848640.1, NW_020848642.1, NW_020848643.1, NW_020848644.1, NW_020848645.1, NW_020848646.1, NW_020848647.1, NW_020848648.1, NW_020848650.1, NW_020848651.1, NW_020848653.1, NW_020848655.1, NW_020848656.1, NW_020848657.1, NW_020848660.1, NW_020848661.1, NW_020848662.1, NW_020848663.1, NW_020848664.1, NW_020848668.1, NW_020848669.1, NW_020848672.1, NW_020848673.1, NW_020848675.1, NW_020848677.1, NW_020848678.1, NW_020848679.1, NW_020848682.1, NW_020848683.1, NW_020848684.1, NW_020848685.1, NW_020848686.1, NW_020848688.1, NW_020848689.1, NW_020848690.1, NW_020848691.1, NW_020848692.1, NW_020848693.1, NW_020848695.1, NW_020848696.1, NW_020848697.1, NW_020848698.1, NW_020848699.1, NW_020848700.1, NW_020848701.1, NW_020848704.1, NW_020848705.1, NW_020848706.1, NW_020848707.1, NW_020848708.1, NW_020848709.1, NW_020848710.1, NW_020848711.1, NW_020848713.1, NW_020848714.1, NW_020848716.1, NW_020848717.1, NW_020848719.1, NW_020848720.1, NW_020848721.1, NW_020848722.1, NW_020848723.1, NW_020848724.1, NW_020848725.1, NW_020848726.1, NW_020848727.1, NW_020848729.1, NW_020848730.1, NW_020848731.1, NW_020848732.1, NW_020848733.1, NW_020848734.1, NW_020848735.1, NW_020848736.1, NW_020848737.1, NW_020848738.1, NW_020848741.1, NW_020848742.1, NW_020848743.1, NW_020848744.1, NW_020848745.1, NW_020848747.1, NW_020848748.1, NW_020848749.1, NW_020848753.1, NW_020848754.1, NW_020848757.1, NW_020848758.1, NW_020848759.1, NW_020848761.1, NW_020848762.1, NW_020848764.1, NW_020848765.1, NW_020848766.1, NW_020848767.1, NW_020848769.1, NW_020848770.1, NW_020848771.1, NW_020848777.1, NW_020848778.1, NW_020848779.1, NW_020848781.1, NW_020848782.1, NW_020848783.1, NW_020848784.1, NW_020848785.1, NW_020848789.1, NW_020848790.1, NW_020848793.1, NW_020848796.1, NW_020848798.1, NW_020848800.1, NW_020848801.1, NW_020848803.1, NW_020848804.1, NW_020848807.1, NW_020848808.1, NW_020848811.1, NW_020848812.1, NW_020848816.1, NW_020848818.1, NW_020848823.1, NW_020848824.1, NW_020848826.1, NW_020848827.1, NW_020848829.1, NW_020848830.1, NW_020848831.1, NW_020848832.1, NW_020848833.1, NW_020848835.1, NW_020848836.1, NW_020848837.1, NW_020848840.1, NW_020848843.1, NW_020848847.1, NW_020848848.1, NW_020848850.1, NW_020848851.1, NW_020848852.1, NW_020848853.1, NW_020848854.1, NW_020848856.1, NW_020848857.1, NW_020848858.1, NW_020848859.1, NW_020848860.1, NW_020848861.1, NW_020848862.1, NW_020848864.1, NW_020848866.1, NW_020848868.1, NW_020848869.1, NW_020848870.1, NW_020848871.1, NW_020848874.1, NW_020848876.1, NW_020848877.1, NW_020848878.1, NW_020848879.1, NW_020848882.1, NW_020848885.1, NW_020848887.1, NW_020848890.1, NW_020848891.1, NW_020848896.1, NW_020848897.1, NW_020848898.1, NW_020848899.1, NW_020848900.1, NW_020848901.1, NW_020848902.1, NW_020848903.1, NW_020848904.1, NW_020848905.1, NW_020848906.1, NW_020848907.1, NW_020848908.1, NW_020848909.1, NW_020848910.1, NW_020848911.1, NW_020848912.1, NW_020848914.1, NW_020848915.1, NW_020848916.1, NW_020848917.1, NW_020848918.1, NW_020848919.1, NW_020848920.1, NW_020848921.1, NW_020848922.1, NW_020848923.1, NW_020848925.1, NW_020848927.1, NW_020848928.1, NW_020848930.1, NW_020848931.1, NW_020848932.1, NW_020848934.1, NW_020848936.1, NW_020848937.1, NW_020848938.1, NW_020848940.1, NW_020848941.1, NW_020848942.1, NW_020848943.1, NW_020848944.1, NW_020848945.1, NW_020848946.1, NW_020848947.1, NW_020848948.1, NW_020848949.1, NW_020848951.1, NW_020848952.1, NW_020848953.1, NW_020848954.1, NW_020848955.1, NW_020848956.1, NW_020848958.1, NW_020848959.1, NW_020848960.1, NW_020848961.1, NW_020848962.1, NW_020848963.1, NW_020848964.1, NW_020848965.1, NW_020848966.1, NW_020848968.1, NW_020848969.1, NW_020848970.1, NW_020848973.1, NW_020848974.1, NW_020848976.1, NW_020848978.1, NW_020848979.1, NW_020848980.1, NW_020848981.1, NW_020848982.1, NW_020848983.1, NW_020848984.1, NW_020848986.1, NW_020848987.1, NW_020848988.1, NW_020848989.1, NW_020848990.1, NW_020848991.1, NW_020848992.1, NW_020848994.1, NW_020848995.1, NW_020848996.1, NW_020848997.1, NW_020848998.1, NW_020848999.1, NW_020849000.1, NW_020849001.1, NW_020849002.1, NW_020849003.1, NW_020849005.1, NW_020849006.1, NW_020849007.1, NW_020849008.1, NW_020849009.1, NW_020849010.1, NW_020849011.1, NW_020849012.1, NW_020849014.1, NW_020849015.1, NW_020849016.1, NW_020849017.1, NW_020849018.1, NW_020849019.1, NW_020849020.1, NW_020849021.1, NW_020849022.1, NW_020849023.1, NW_020849024.1, NW_020849025.1, NW_020849026.1, NW_020849027.1, NW_020849028.1, NW_020849029.1, NW_020849030.1, NW_020849031.1, NW_020849032.1, NW_020849033.1, NW_020849034.1, NW_020849035.1, NW_020849036.1, NW_020849037.1, NW_020849038.1, NW_020849039.1, NW_020849040.1, NW_020849041.1, NW_020849042.1, NW_020849043.1, NW_020849044.1, NW_020849045.1, NW_020849047.1, NW_020849048.1, NW_020849049.1, NW_020849052.1, NW_020849053.1, NW_020849054.1, NW_020849055.1, NW_020849056.1, NW_020849057.1, NW_020849058.1, NW_020849059.1, NW_020849060.1, NW_020849062.1, NW_020849063.1, NW_020849064.1, NW_020849065.1, NW_020849067.1, NW_020849070.1, NW_020849072.1, NW_020849073.1, NW_020849074.1, NW_020849076.1, NW_020849077.1, NW_020849079.1, NW_020849081.1, NW_020849082.1, NW_020849083.1, NW_020849084.1, NW_020849085.1, NW_020849086.1, NW_020849087.1, NW_020849088.1, NW_020849089.1, NW_020849090.1, NW_020849091.1, NW_020849096.1, NW_020849097.1, NW_020849098.1, NW_020849099.1, NW_020849100.1, NW_020849101.1, NW_020849102.1, NW_020849104.1, NW_020849107.1, NW_020849108.1, NW_020849109.1, NW_020849111.1, NW_020849112.1, NW”\n"
     ]
    }
   ],
   "source": [
    "Coverage <- coverage.target(reads, targets, perTarget=T, perBase=T)\n",
    "#Coverage <- coverage.target(reads, targets, perTarget=T)\n",
    "\n",
    "targets2 <- Coverage$targetCoverages\n",
    "targets2 <- readsPerTarget(reads, targets2)\n",
    "#targets2"
   ]
  },
  {
   "cell_type": "markdown",
   "metadata": {},
   "source": [
    "Write coverage results ot a file. (Create dataframe of `targets2` and write it to file `target_coverage.txt`). Ensure the desired working directory is set or specify full path. It will return a table listing all targets and determined coverage with the follwing columns: <br>\n",
    "\n",
    "    seqnames\tstart\tend\twidth\tstrand\tavgCoverage\tcoverageSD\tnReads"
   ]
  },
  {
   "cell_type": "code",
   "execution_count": 17,
   "metadata": {},
   "outputs": [],
   "source": [
    "#setwd()\n",
    "write.table(as.data.frame(targets2), file=\"target_coverage_28-8-2021.txt\",sep=\"\\t\", row.names=F, quote=F)"
   ]
  },
  {
   "cell_type": "markdown",
   "metadata": {},
   "source": [
    "### TARGET CAPTURE SENSITIVITY"
   ]
  },
  {
   "cell_type": "markdown",
   "metadata": {},
   "source": [
    "**`covered.k(coverageTarget, k=c(1, 2, 3, 5, 10, 20, ..., N)`**:\n",
    "- calculates fraction of target bases covered based on the **`coverageTarget`** output of **`coverage.target()`** by at least **k** reads.\n",
    "- ***coverageTarget***:\n",
    "    - list containing vectors of per-target-base coverages for each chromosome, i.e. **`coverageTarget`** output from **`coverage.target()`**.\n",
    "- ***k***:\n",
    "    - specifies the values for which to calculate the fraction of bases achieving the respective coverage (k)."
   ]
  },
  {
   "cell_type": "code",
   "execution_count": 18,
   "metadata": {},
   "outputs": [
    {
     "data": {
      "text/html": [
       "<style>\n",
       ".dl-inline {width: auto; margin:0; padding: 0}\n",
       ".dl-inline>dt, .dl-inline>dd {float: none; width: auto; display: inline-block}\n",
       ".dl-inline>dt::after {content: \":\\0020\"; padding-right: .5ex}\n",
       ".dl-inline>dt:not(:first-of-type) {padding-left: .5ex}\n",
       "</style><dl class=dl-inline><dt>1</dt><dd>0.956254267538426</dd><dt>5</dt><dd>0.923858449539348</dd><dt>10</dt><dd>0.909697686091443</dd><dt>20</dt><dd>0.884643393702927</dd><dt>40</dt><dd>0.83170896820985</dd></dl>\n"
      ],
      "text/latex": [
       "\\begin{description*}\n",
       "\\item[1] 0.956254267538426\n",
       "\\item[5] 0.923858449539348\n",
       "\\item[10] 0.909697686091443\n",
       "\\item[20] 0.884643393702927\n",
       "\\item[40] 0.83170896820985\n",
       "\\end{description*}\n"
      ],
      "text/markdown": [
       "1\n",
       ":   0.9562542675384265\n",
       ":   0.92385844953934810\n",
       ":   0.90969768609144320\n",
       ":   0.88464339370292740\n",
       ":   0.83170896820985\n",
       "\n"
      ],
      "text/plain": [
       "        1         5        10        20        40 \n",
       "0.9562543 0.9238584 0.9096977 0.8846434 0.8317090 "
      ]
     },
     "metadata": {},
     "output_type": "display_data"
    }
   ],
   "source": [
    "covered.k(Coverage$coverageTarget, k=c(1, 5, 10, 20, 40))"
   ]
  },
  {
   "cell_type": "markdown",
   "metadata": {},
   "source": [
    "**`coverage.hist(coverageTarget, covthreshold)`**:\n",
    "- histogram of read coverages for bases within the target. \n",
    "- additionally, a line and the right axis indicate the cumulative fraction of target bases with coverage of at least x. \n",
    "- if option **`covthreshold`** is specified, red dashed lines highlight the cumulative fraction of target bases with at least the specified coverage.\n",
    "- ***coverageTarget***:\n",
    "    - list containing vectors of per-target-base coverages for each chromosome, i.e. **`coverageTarget`** output from **`coverage.target()`**.\n",
    "- ***covthreshold***:\n",
    "    - indicates with dashed vertical and horizontal lines, which fraction of bases has a coverage of at least **`covthreshold`**; if missing, no dashed lines are drawn."
   ]
  },
  {
   "cell_type": "code",
   "execution_count": 19,
   "metadata": {},
   "outputs": [
    {
     "data": {
      "image/png": "[encoded data removed]",
      "text/plain": [
       "Plot with title “Coverage Distribution”"
      ]
     },
     "metadata": {
      "image/png": {
       "height": 420,
       "width": 420
      }
     },
     "output_type": "display_data"
    }
   ],
   "source": [
    "# pdf(\"Coverage-distribution-rplot.pdf\")\n",
    "coverage.hist(Coverage$coverageTarget, covthreshold=8)\n",
    "# dev.off()"
   ]
  },
  {
   "cell_type": "markdown",
   "metadata": {},
   "source": [
    "**`coverage.uniformity(coveragelist)`**:\n",
    "- visualization of target coverage uniformity. \n",
    "- a line shows the cumulative fraction of targeted bases that reach at least a certain normalized coverage.\n",
    "- ***coveragelist***:\n",
    "    - output of function **`coverage.target()`**, where option `perBase` had to be set to `TRUE`, i.e. a list with elements `coverageTarget` and `avgTargetCoverage`."
   ]
  },
  {
   "cell_type": "code",
   "execution_count": null,
   "metadata": {},
   "outputs": [],
   "source": [
    "# pdf(\"Coverage-uniformity-rplot.pdf\")\n",
    "coverage.uniformity(Coverage)\n",
    "# dev.off()"
   ]
  },
  {
   "cell_type": "markdown",
   "metadata": {},
   "source": [
    "**`coverage.targetlength.plot()`** calculates the number of reads or average coverage versus tanget length.  \n",
    "  \n",
    "**`coverage.targetlength.plot(targets, plotcolumn, pch, cex)`**:\n",
    "- plots either numbers of on-target reads or average per-target coverage (or potentially other per-target values) against respective target lengths. \n",
    "- a smoothing spline is added to the scatter plot.\n",
    "- ***targets***:\n",
    "    -  table containing positions of target regions and further 'values' columns that should be plotted, i.e. output from **`coverage.target()`** or **`readsPerTarget`**.\n",
    "- ***plotlocumn***:\n",
    "    - name or index of column to plot (of the 'values' DataFrame within **`targets`**.\n",
    "- ***pch***:\n",
    "    - plotting character.\n",
    "    - **`16`** = filled circle\n",
    "- ***cex***:\n",
    "    - size of plotting character."
   ]
  },
  {
   "cell_type": "code",
   "execution_count": null,
   "metadata": {},
   "outputs": [],
   "source": [
    "# pdf(\"Coverage-Target-length-rplot.pdf\")\n",
    "par(mfrow=c(1,2))\n",
    "coverage.targetlength.plot(targets2, plotcolumn=\"nReads\", pch=16,cex=1.5)\n",
    "coverage.targetlength.plot(targets2, plotcolumn=\"avgCoverage\", pch=16,cex=1.5)\n",
    "# dev.off()"
   ]
  },
  {
   "cell_type": "markdown",
   "metadata": {},
   "source": [
    "### Coverage Plots for Genes-of-Interest"
   ]
  },
  {
   "cell_type": "markdown",
   "metadata": {},
   "source": [
    "Examples: Caffeine pathway genes:\n",
    "```\n",
    "Chromosome\tStart\tEnd\tName\n",
    "NC_039914.1\t7473077\t7475443\tLOC113708510-9c-CaXMT1\n",
    "NC_039915.1\t6714444\t6716737\tLOC113710464-9e-CaXMT2\n",
    "NC_039914.1\t7430405\t7432582\tLOC113707907-9c-CaMXMT1\n",
    "NC_039915.1\t6674915\t6677084\tLOC113710465-9e-CaMXMT2\n",
    "NC_039898.1\t1392954\t1395287\tLOC113688632-1c-CaDXMT2\n",
    "NC_039899.1\t893020\t895356\tLOC113697595-1e-CaDXMT1a\n",
    "NC_039899.1\t884021\t886305\tLOC113697586-1e-CaDXMT1b\n",
    "```"
   ]
  },
  {
   "cell_type": "markdown",
   "metadata": {},
   "source": [
    "**`coverage.plot(coverageAll, targets, Offset, chr, Start, End, main)`**:\n",
    "- line plot of per-base coverages along a genomic region. \n",
    "- position of target regions can be shown.\n",
    "- ***coverageAll***:\n",
    "    - list containing vectors of per-base coverages for each chromosome, i.e. **`coverageAll`** output from **`coverage.target()`**.\n",
    "- ***targets***:\n",
    "    - optional; table containing positions of target regions, i.e. output from **`get.targets()`**; if missing no genomic regions are highlighted.\n",
    "- ***Offset***:\n",
    "    - integer; highlight `Offset` bases on both sides of each targeted region; defaults to 0.\n",
    "- ***chr***:\n",
    "    - on which chromosome the region to plot is located (string, e.g. \"chr1\").\n",
    "- ***Start***:\n",
    "    - genomic position where to start the plot.\n",
    "- ***End***:\n",
    "    - genomic position where to end the plot.\n",
    "- ***main***:\n",
    "    - image title."
   ]
  },
  {
   "cell_type": "code",
   "execution_count": null,
   "metadata": {},
   "outputs": [],
   "source": [
    "# pdf(\"Coverage-plots-caffeine-genes.pdf\")\n",
    "coverage.plot(Coverage$coverageAll, targets, Offset=100, chr=\"NC_039914.1\",Start=7473077, End=7475443, main=\"LOC113708510-9c-CaXMT1\")\n",
    "#coverage.plot(Coverage$coverageAll, targets, Offset=100, chr=\"NC_039915.1\",Start=6714444, End=6716737, main=\"LOC113710464-9e-CaXMT2\")\n",
    "#coverage.plot(Coverage$coverageAll, targets, Offset=100, chr=\"NC_039914.1\",Start=7430405, End=7432582, main=\"LOC113707907-9c-CaMXMT1\")\n",
    "#coverage.plot(Coverage$coverageAll, targets, Offset=100, chr=\"NC_039915.1\",Start=6674915, End=6677084, main=\"LOC113710465-9e-CaMXMT2\")\n",
    "#coverage.plot(Coverage$coverageAll, targets, Offset=100, chr=\"NC_039898.1\",Start=1392954, End=1395287, main=\"LOC113688632-1c-CaDXMT2\")\n",
    "#coverage.plot(Coverage$coverageAll, targets, Offset=100, chr=\"NC_039899.1\",Start=893020, End=895356, main=\"LOC113697595-1e-CaDXMT1a\")\n",
    "#coverage.plot(Coverage$coverageAll, targets, Offset=100, chr=\"NC_039899.1\",Start=884021, End=886305, main=\"LOC113697586-1e-CaDXMT1b\")\n",
    "# dev.off()"
   ]
  },
  {
   "cell_type": "markdown",
   "metadata": {},
   "source": [
    "# READ DUPLICATES"
   ]
  },
  {
   "cell_type": "markdown",
   "metadata": {},
   "source": [
    "**`duplicates.barplot(reads, targets, xlim)`**:\n",
    "- barplot showing fractions of reads / read pairs which are unique and for which there are two, three, ... copies.\n",
    "- separate bars are made for on- and off-target reads / read pairs.\n",
    "- ***reads***:\n",
    "    - table containing positions of sequenced reads, i.e. output from **`get.reads()`**. \n",
    "    - alternatively, for paired-end data, it can be the output of **`reads2pairs`** when multiplicities of read pairs instead of fraction of single reads shall be visualized.\n",
    "- ***targets***:\n",
    "    - table containing positions of target regions, i.e. output from **`get.targets()`**.\n",
    "- ***xlim***:\n",
    "    - x-axis coordinate ranges."
   ]
  },
  {
   "cell_type": "code",
   "execution_count": 1,
   "metadata": {},
   "outputs": [
    {
     "ename": "ERROR",
     "evalue": "Error in duplicates.barplot(reads, targets, xlim = c(0, 12)): could not find function \"duplicates.barplot\"\n",
     "output_type": "error",
     "traceback": [
      "Error in duplicates.barplot(reads, targets, xlim = c(0, 12)): could not find function \"duplicates.barplot\"\nTraceback:\n"
     ]
    }
   ],
   "source": [
    "# pdf(\"Duplicates-barplot.pdf\")\n",
    "duplicates.barplot(reads, targets, xlim=c(0,12))\n",
    "# dev.off()"
   ]
  },
  {
   "cell_type": "code",
   "execution_count": null,
   "metadata": {},
   "outputs": [],
   "source": []
  }
 ],
 "metadata": {
  "kernelspec": {
   "display_name": "R",
   "language": "R",
   "name": "ir"
  },
  "language_info": {
   "codemirror_mode": "r",
   "file_extension": ".r",
   "mimetype": "text/x-r-source",
   "name": "R",
   "pygments_lexer": "r",
   "version": "4.1.0"
  }
 },
 "nbformat": 4,
 "nbformat_minor": 4
}
